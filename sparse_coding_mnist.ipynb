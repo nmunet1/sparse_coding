{
 "cells": [
  {
   "cell_type": "code",
   "execution_count": 2,
   "metadata": {},
   "outputs": [],
   "source": [
    "import bisect\n",
    "import math\n",
    "import struct as st\n",
    "\n",
    "import matplotlib\n",
    "import matplotlib.pyplot as plt\n",
    "import numpy as np\n",
    "\n",
    "from random import sample\n",
    "from numpy.random import RandomState\n",
    "\n",
    "from sklearn import decomposition"
   ]
  },
  {
   "cell_type": "code",
   "execution_count": 18,
   "metadata": {},
   "outputs": [],
   "source": [
    "img_side_len = 28 # side length of each image, in pixels\n",
    "\n",
    "rng = RandomState(1289) # arbitrary random state seed\n",
    "\n",
    "pct_var_cutoff = 98 # target percent variance explained by PC space"
   ]
  },
  {
   "cell_type": "code",
   "execution_count": 4,
   "metadata": {},
   "outputs": [],
   "source": [
    "def plot_components(dictionary, cmap):\n",
    "    ''' Plots dictionary components (row vectors of data) as 2d images\n",
    "    \n",
    "    Note: assumes size of each component equals # of pixels per image in the original MNIST data\n",
    "    \n",
    "    Parameters\n",
    "    ----------\n",
    "    dictionary: (numpy array, [# of representations] x [# of pixels per image])\n",
    "    \n",
    "    '''\n",
    "    \n",
    "    max_rows = 12;\n",
    "    \n",
    "    n_cols = 20;\n",
    "    n_rows = min(max_rows, math.ceil(np.size(dictionary,0)/n_cols))\n",
    "    \n",
    "    plt.figure()\n",
    "    for i, img_rep in enumerate(dictionary[:n_cols*n_rows]):\n",
    "        plt.subplot(n_rows, n_cols, i+1)\n",
    "        plt.imshow(img_rep.reshape((img_side_len,img_side_len)), cmap = cmap)\n",
    "        plt.gca().set_axis_off()\n",
    "        \n",
    "    plt.show()"
   ]
  },
  {
   "cell_type": "markdown",
   "metadata": {},
   "source": [
    "# Convert MNIST dataset to Numpy arrays"
   ]
  },
  {
   "cell_type": "code",
   "execution_count": 5,
   "metadata": {},
   "outputs": [],
   "source": [
    "filename = {'train_images' : 'train-images-idx3-ubyte', 'test_images' : 't10k-images-idx3-ubyte'}"
   ]
  },
  {
   "cell_type": "code",
   "execution_count": 7,
   "metadata": {},
   "outputs": [],
   "source": [
    "def get_image_array(dataset_name):\n",
    "    ''' Convert MNIST binary data to Numpy array of pixel data for each image\n",
    "    \n",
    "    Parameters\n",
    "    ----------\n",
    "    dataset_name: (str) name of MNIST dataset ('train_images' or 'test_images')\n",
    "    \n",
    "    Returns\n",
    "    -------\n",
    "    images_array: (numpy array, [# of images] x [# of pixels per image]) array of vectorized pixel data for each image\n",
    "    \n",
    "    '''\n",
    "    \n",
    "    with open('../'+filename[dataset_name],'rb') as images_file:\n",
    "        images_file.seek(0)\n",
    "        magic = st.unpack('>4B',images_file.read(4)) # magic number (0, 0, 8 = data type, 3 = # of dimensions)\n",
    "\n",
    "        n_imgs = st.unpack('>I',images_file.read(4))[0] # number of images\n",
    "        n_rows = st.unpack('>I',images_file.read(4))[0] # number of rows\n",
    "        n_cols = st.unpack('>I',images_file.read(4))[0] # number of columns\n",
    "\n",
    "        n_bytes_total = n_imgs*n_rows*n_cols\n",
    "        \n",
    "        images_array = np.zeros((n_imgs,n_rows,n_cols))\n",
    "        images_array = 255 - \\\n",
    "            np.asarray(st.unpack('>'+'B'*n_bytes_total, images_file.read(n_bytes_total))).reshape((n_imgs,n_rows*n_cols))\n",
    "    \n",
    "    return images_array"
   ]
  },
  {
   "cell_type": "code",
   "execution_count": 8,
   "metadata": {},
   "outputs": [],
   "source": [
    "# Convert MNIST training and test image data from binary files to numpy arrays\n",
    "train_data = get_image_array('train_images')\n",
    "test_data = get_image_array('test_images')"
   ]
  },
  {
   "cell_type": "markdown",
   "metadata": {},
   "source": [
    "# Perform PCA on MNIST data"
   ]
  },
  {
   "cell_type": "code",
   "execution_count": 21,
   "metadata": {},
   "outputs": [
    {
     "data": {
      "text/plain": [
       "PCA(copy=True, iterated_power='auto', n_components=None,\n",
       "  random_state=<mtrand.RandomState object at 0x1a258b2f78>,\n",
       "  svd_solver='auto', tol=0.0, whiten=True)"
      ]
     },
     "execution_count": 21,
     "metadata": {},
     "output_type": "execute_result"
    }
   ],
   "source": [
    "# Initialize PCA object\n",
    "pca_model = decomposition.PCA(whiten = True, random_state = rng)\n",
    "\n",
    "# Zero-average training data\n",
    "train_data_zeroavg = train_data - np.mean(train_data, 0)\n",
    "\n",
    "# Perform PCA with no restrictions on number of components, then evaluate variance explained by first n components\n",
    "pca_model.fit(train_data_zeroavg)"
   ]
  },
  {
   "cell_type": "code",
   "execution_count": 27,
   "metadata": {},
   "outputs": [
    {
     "data": {
      "image/png": "[encoded data removed]",
      "text/plain": [
       "<Figure size 432x288 with 1 Axes>"
      ]
     },
     "metadata": {},
     "output_type": "display_data"
    }
   ],
   "source": [
    "cum_var_explained = np.cumsum(pca_model.explained_variance_ratio_)\n",
    "\n",
    "pct_var_explained = range(1,101,1)\n",
    "n_pcs = [bisect.bisect(cum_var_explained, pct_var/100.)+1 for pct_var in pct_var_explained]\n",
    "\n",
    "n_pcs_cutoff = bisect.bisect(cum_var_explained, pct_var_cutoff/100.)+1\n",
    "\n",
    "% matplotlib inline\n",
    "plt.plot(pct_var_explained,n_pcs,'k')\n",
    "plt.axhline(y = n_pcs_cutoff, color = 'r', linestyle = '--', alpha = .5)\n",
    "\n",
    "plt.xlabel('% Variance Explained')\n",
    "plt.ylabel('Number of PCs')\n",
    "\n",
    "plt.show()"
   ]
  },
  {
   "cell_type": "code",
   "execution_count": 28,
   "metadata": {},
   "outputs": [
    {
     "name": "stdout",
     "output_type": "stream",
     "text": [
      "261\n"
     ]
    }
   ],
   "source": [
    "print(n_pcs_cutoff)"
   ]
  },
  {
   "cell_type": "code",
   "execution_count": 9,
   "metadata": {},
   "outputs": [],
   "source": [
    "# Redo PCA with just enough PCs to hit the target percent variance explained\n",
    "pca_model = decomposition.PCA(n_components = n_pcs_cutoff,\n",
    "                              whiten = True,\n",
    "                              random_state = rng)\n",
    "\n",
    "pca_model.fit(train_data_zeroavg)\n",
    "\n",
    "train_data_pc = pca_model.transform(train_data_zeroavg) # Compressed PC-space representation of training data"
   ]
  },
  {
   "cell_type": "markdown",
   "metadata": {},
   "source": [
    "# Train sparse coding model on MNIST data"
   ]
  },
  {
   "cell_type": "code",
   "execution_count": 10,
   "metadata": {},
   "outputs": [
    {
     "data": {
      "text/plain": [
       "MiniBatchDictionaryLearning(alpha=0.5, batch_size=3, dict_init=None,\n",
       "              fit_algorithm='cd', n_components=522, n_iter=500, n_jobs=1,\n",
       "              random_state=<mtrand.RandomState object at 0x1a16abdb88>,\n",
       "              shuffle=True, split_sign=False, transform_algorithm='omp',\n",
       "              transform_alpha=None, transform_n_nonzero_coefs=None,\n",
       "              verbose=False)"
      ]
     },
     "execution_count": 10,
     "metadata": {},
     "output_type": "execute_result"
    }
   ],
   "source": [
    "dictionary_size =  n_pcs*2 # number of components in dictionary\n",
    "alpha = .5 # sparseness parameter\n",
    "n_iter = 500 # number of iterations\n",
    "\n",
    "# Initialize MNIST sparse coding model\n",
    "sparse_model = decomposition.MiniBatchDictionaryLearning(n_components = dictionary_size,\n",
    "                                                 alpha = alpha,\n",
    "                                                 fit_algorithm = 'cd',\n",
    "                                                 n_iter = n_iter,\n",
    "                                                 random_state = rng)\n",
    "# Fit model\n",
    "sparse_model.fit(train_data_pc)"
   ]
  },
  {
   "cell_type": "code",
   "execution_count": 11,
   "metadata": {},
   "outputs": [],
   "source": [
    "components = pca_model.inverse_transform(sparse_model.components_) # get components in pixel space\n",
    "\n",
    "k_components = 50\n",
    "inds = sample(range(np.size(components,0)),k_components)\n",
    "components_subset = components[inds,:]"
   ]
  },
  {
   "cell_type": "code",
   "execution_count": null,
   "metadata": {},
   "outputs": [],
   "source": [
    "%matplotlib qt\n",
    "plot_components(components_subset, 'coolwarm')"
   ]
  },
  {
   "cell_type": "code",
   "execution_count": 47,
   "metadata": {},
   "outputs": [],
   "source": [
    "%matplotlib qt\n",
    "fig, axs = plt.subplots(nrows=2, ncols=5, sharex = True, sharey = True, constrained_layout=True)\n",
    "for i,ax in zip(range(10),axs.reshape((10,1))):\n",
    "    ax[0].imshow(components[i,:].reshape((img_side_len,img_side_len)), cmap = 'coolwarm')\n",
    "plt.show()"
   ]
  },
  {
   "cell_type": "code",
   "execution_count": 58,
   "metadata": {},
   "outputs": [],
   "source": [
    "fig.subplots_adjust(hspace=0,wspace=.1)"
   ]
  },
  {
   "cell_type": "code",
   "execution_count": null,
   "metadata": {},
   "outputs": [],
   "source": []
  }
 ],
 "metadata": {
  "kernelspec": {
   "display_name": "Python 3",
   "language": "python",
   "name": "python3"
  },
  "language_info": {
   "codemirror_mode": {
    "name": "ipython",
    "version": 3
   },
   "file_extension": ".py",
   "mimetype": "text/x-python",
   "name": "python",
   "nbconvert_exporter": "python",
   "pygments_lexer": "ipython3",
   "version": "3.6.8"
  }
 },
 "nbformat": 4,
 "nbformat_minor": 2
}
