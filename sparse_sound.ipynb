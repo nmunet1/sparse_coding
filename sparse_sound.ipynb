{
 "cells": [
  {
   "cell_type": "code",
   "execution_count": 77,
   "metadata": {},
   "outputs": [],
   "source": [
    "import math\n",
    "import random\n",
    "import struct as st\n",
    "\n",
    "import h5py\n",
    "import matplotlib\n",
    "import matplotlib.pyplot as plt\n",
    "import numpy as np\n",
    "\n",
    "from itertools import compress\n",
    "from numpy.random import RandomState\n",
    "\n",
    "from sklearn import decomposition as dcmp"
   ]
  },
  {
   "cell_type": "code",
   "execution_count": 91,
   "metadata": {},
   "outputs": [],
   "source": [
    "n_sounds = 49012\n",
    "n_freq_bins = 1528\n",
    "n_time_bins = 100\n",
    "\n",
    "rng = RandomState(132) # arbitrary random state seed\n",
    "\n",
    "var_explained_cutoff = 98 # target percent variance explained for PC space"
   ]
  },
  {
   "cell_type": "code",
   "execution_count": 90,
   "metadata": {},
   "outputs": [],
   "source": [
    "features_path = '../acoustic_features_setA.h5'\n",
    "labels_path = '../label_names'\n",
    "spectrograms_path = '../sound_arrays.h5'"
   ]
  },
  {
   "cell_type": "code",
   "execution_count": null,
   "metadata": {},
   "outputs": [],
   "source": [
    "def plot_components(dictionary, cmap):\n",
    "    ''' Plots dictionary components (row vectors of data) as 2d images\n",
    "    \n",
    "    Note: assumes size of each component equals # frequency bins x # time bins in spectrogram dataset\n",
    "    \n",
    "    Parameters\n",
    "    ----------\n",
    "    dictionary: (numpy array, [# of spectrograms] x [# freq. bins x # time bins])\n",
    "    \n",
    "    \n",
    "    '''\n",
    "    # ADD CODE HERE"
   ]
  },
  {
   "cell_type": "markdown",
   "metadata": {},
   "source": [
    "# Subsample Spectrogram Dataset"
   ]
  },
  {
   "cell_type": "code",
   "execution_count": 17,
   "metadata": {},
   "outputs": [],
   "source": [
    "# Compile dict with indices of spectrograms organized by sound category\n",
    "category_idxs = {}\n",
    "with h5py.File(features_path) as features:\n",
    "    labels = features['labels']\n",
    "    \n",
    "    for label_idx in range(19):\n",
    "        category_idxs[label_idx] = list(compress(range(n_sounds),labels[:,label_idx]))"
   ]
  },
  {
   "cell_type": "code",
   "execution_count": 58,
   "metadata": {},
   "outputs": [],
   "source": [
    "category_names = []\n",
    "with open(labels_path) as names:\n",
    "    for line in names:\n",
    "        category_names.append(line[:-1].strip())"
   ]
  },
  {
   "cell_type": "code",
   "execution_count": 71,
   "metadata": {},
   "outputs": [
    {
     "name": "stdout",
     "output_type": "stream",
     "text": [
      "cat:  1104\n",
      "dog:  763\n",
      "fox:  563\n",
      "hawk:  2477\n",
      "owl:  15506\n",
      "crow/raven:  656\n",
      "goose:  0\n",
      "duck:  1179\n",
      "songbird:  4618\n",
      "horse:  406\n",
      "pig:  79\n",
      "sheep:  94\n",
      "music:  304\n",
      "manmade:  608\n",
      "speech:  304\n",
      "ocean:  12268\n",
      "rain:  2220\n",
      "wind:  6233\n",
      "fire:  2679\n"
     ]
    }
   ],
   "source": [
    "n_per_category = [len(idxs) for idxs in category_idxs.values()] # number of sounds per category\n",
    "\n",
    "%matplotlib qt\n",
    "plt.bar(np.arange(19),n_per_category,tick_label=category_names)\n",
    "plt.show()\n",
    "\n",
    "for cat in range(19):\n",
    "    print('%s:  %i' % (category_names[cat],len(category_idxs[cat])))"
   ]
  },
  {
   "cell_type": "code",
   "execution_count": 88,
   "metadata": {},
   "outputs": [],
   "source": [
    "# Randomly subsample from categories with more than 100 sound samples\n",
    "\n",
    "subsamp_thresh = 100 # random subsampling threshold (full sampling for categories below threshold)\n",
    "random.seed(13) # set random number generator at arbitrary seed\n",
    "\n",
    "idxs_subsamp = []\n",
    "for idxs in category_idxs.values():\n",
    "    if len(idxs) > subsamp_thresh:\n",
    "        idxs_subsamp += random.sample(idxs,subsamp_thresh)\n",
    "    else:\n",
    "        idxs_subsamp += idxs\n",
    "        \n",
    "idxs_subsamp.sort()"
   ]
  },
  {
   "cell_type": "code",
   "execution_count": null,
   "metadata": {},
   "outputs": [],
   "source": [
    "with h5py.File(spectrograms_path) as spectrograms:\n",
    "    spectrograms_subset = np.array(spectrograms['spectograms'][idxs_subsamp,:,:])\n",
    "\n",
    "# reshape to 2d array (rows = sounds, cols = features)\n",
    "spectrograms_subset = spectrograms_subset.reshape((len(idxs_subsamp), n_freq_bins*n_time_bins))\n",
    "\n",
    "# zero-average each feature across sounds\n",
    "spectrograms_avg = np.mean(spectrograms_subset,0)\n",
    "spectrograms_subset -= spectrograms_avg"
   ]
  },
  {
   "cell_type": "markdown",
   "metadata": {},
   "source": [
    "# Perform PCA on Spectrograms"
   ]
  },
  {
   "cell_type": "code",
   "execution_count": null,
   "metadata": {},
   "outputs": [],
   "source": [
    "# initialize and train PCA object\n",
    "pca_model = dcmp.PCA(whiten = True, random_state = rng)\n",
    "pca_model.fit(spectrograms_subset)"
   ]
  },
  {
   "cell_type": "code",
   "execution_count": null,
   "metadata": {},
   "outputs": [],
   "source": [
    "cum_var_explained = np.cumsum(pca_model.explained_variance_ratio_)\n",
    "\n",
    "pct_var_explained = range(1,101,1)\n",
    "n_pcs = [bisect.bisect(cum_var_explained, pct/100.)+1 for pct in pct_var_explained]\n",
    "\n",
    "n_pcs_cutoff = bisect.bisect(cum_var_explained, var_explained_cutoff/100.)+1\n",
    "\n",
    "% matplotlib inline\n",
    "plt.plot(pct_var_explained, n_pcs, 'k')\n",
    "plt.axhline(y = n_pcs_cutoff, color = 'r', linestyle = '--', alpha = .5)\n",
    "\n",
    "plt.xlabel('% Variance Explained')\n",
    "plt.ylabel('Number of PCs')\n",
    "\n",
    "plt.show()"
   ]
  },
  {
   "cell_type": "code",
   "execution_count": null,
   "metadata": {},
   "outputs": [],
   "source": [
    "print(n_pcs_cutoff)"
   ]
  },
  {
   "cell_type": "code",
   "execution_count": null,
   "metadata": {},
   "outputs": [],
   "source": [
    "# Redo PCA with just enough PCs to hit the target variance explained\n",
    "pca_model = dcmp.PCA(n_components = n_pcs_cutoff, whiten = True, random_state = rng)\n",
    "pca_model.fit(spectrograms_subset)\n",
    "\n",
    "train_data_pc = pca_model_transform(spectrograms_subset) # PC representation of data"
   ]
  },
  {
   "cell_type": "markdown",
   "metadata": {},
   "source": [
    "# Train Sparse Coding Model"
   ]
  },
  {
   "cell_type": "code",
   "execution_count": null,
   "metadata": {},
   "outputs": [],
   "source": []
  },
  {
   "cell_type": "markdown",
   "metadata": {},
   "source": [
    "# Evaluate Dictionary Quality"
   ]
  },
  {
   "cell_type": "code",
   "execution_count": null,
   "metadata": {},
   "outputs": [],
   "source": []
  }
 ],
 "metadata": {
  "kernelspec": {
   "display_name": "Python 3",
   "language": "python",
   "name": "python3"
  },
  "language_info": {
   "codemirror_mode": {
    "name": "ipython",
    "version": 3
   },
   "file_extension": ".py",
   "mimetype": "text/x-python",
   "name": "python",
   "nbconvert_exporter": "python",
   "pygments_lexer": "ipython3",
   "version": "3.6.8"
  }
 },
 "nbformat": 4,
 "nbformat_minor": 2
}
