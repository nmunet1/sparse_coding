{
 "cells": [
  {
   "cell_type": "code",
   "execution_count": 1,
   "metadata": {},
   "outputs": [
    {
     "name": "stderr",
     "output_type": "stream",
     "text": [
      "/anaconda3/lib/python3.6/site-packages/h5py/__init__.py:36: FutureWarning: Conversion of the second argument of issubdtype from `float` to `np.floating` is deprecated. In future, it will be treated as `np.float64 == np.dtype(float).type`.\n",
      "  from ._conv import register_converters as _register_converters\n"
     ]
    }
   ],
   "source": [
    "import math\n",
    "import os\n",
    "import random\n",
    "import struct as st\n",
    "\n",
    "import h5py\n",
    "import matplotlib\n",
    "import matplotlib.pyplot as plt\n",
    "import numpy as np\n",
    "\n",
    "from itertools import compress\n",
    "from numpy.random import RandomState\n",
    "\n",
    "from sklearn import decomposition as dcmp"
   ]
  },
  {
   "cell_type": "code",
   "execution_count": 91,
   "metadata": {},
   "outputs": [],
   "source": [
    "n_sounds = 49012\n",
    "n_freq_bins = 1528\n",
    "n_time_bins = 100\n",
    "\n",
    "rng = RandomState(132) # arbitrary random state seed\n",
    "\n",
    "var_explained_cutoff = 98 # target percent variance explained for PC space"
   ]
  },
  {
   "cell_type": "code",
   "execution_count": 4,
   "metadata": {},
   "outputs": [],
   "source": [
    "data_folder = '../' # for Nate's MacBook Pro\n",
    "#data_folder = '../../../data/' # for Chico\n",
    "\n",
    "features_path = os.path.join(data_folder, 'acoustic_features_setA.h5')\n",
    "labels_path = os.path.join(data_folder, 'label_names')\n",
    "spectrograms_path = os.path.join(data_folder, 'sound_arrays.h5')"
   ]
  },
  {
   "cell_type": "code",
   "execution_count": null,
   "metadata": {},
   "outputs": [],
   "source": [
    "def plot_components(dictionary, cmap):\n",
    "    ''' Plots dictionary components (row vectors of data) as 2d images\n",
    "    \n",
    "    Note: assumes size of each component equals # frequency bins x # time bins in spectrogram dataset\n",
    "    \n",
    "    Parameters\n",
    "    ----------\n",
    "    dictionary: (numpy array, [# of spectrograms] x [# freq. bins x # time bins])\n",
    "    \n",
    "    \n",
    "    '''\n",
    "    # ADD CODE HERE"
   ]
  },
  {
   "cell_type": "markdown",
   "metadata": {},
   "source": [
    "# Subsample Spectrogram Dataset"
   ]
  },
  {
   "cell_type": "code",
   "execution_count": 17,
   "metadata": {},
   "outputs": [],
   "source": [
    "# Compile dict with indices of spectrograms organized by sound category\n",
    "category_idxs = {}\n",
    "with h5py.File(features_path) as features:\n",
    "    labels = features['labels']\n",
    "    \n",
    "    for label_idx in range(19):\n",
    "        # get list indices for which the given sound label/category applies (is stored as True)\n",
    "        category_idxs[label_idx] = list(compress(range(n_sounds),labels[:,label_idx]))"
   ]
  },
  {
   "cell_type": "code",
   "execution_count": 58,
   "metadata": {},
   "outputs": [],
   "source": [
    "# Get list of sound category names (strings)\n",
    "category_names = []\n",
    "with open(labels_path) as names:\n",
    "    for line in names:\n",
    "        category_names.append(line[:-1].strip())"
   ]
  },
  {
   "cell_type": "code",
   "execution_count": 71,
   "metadata": {},
   "outputs": [
    {
     "name": "stdout",
     "output_type": "stream",
     "text": [
      "cat:  1104\n",
      "dog:  763\n",
      "fox:  563\n",
      "hawk:  2477\n",
      "owl:  15506\n",
      "crow/raven:  656\n",
      "goose:  0\n",
      "duck:  1179\n",
      "songbird:  4618\n",
      "horse:  406\n",
      "pig:  79\n",
      "sheep:  94\n",
      "music:  304\n",
      "manmade:  608\n",
      "speech:  304\n",
      "ocean:  12268\n",
      "rain:  2220\n",
      "wind:  6233\n",
      "fire:  2679\n"
     ]
    }
   ],
   "source": [
    "# Visualization of how many sounds are in each category\n",
    "\n",
    "n_per_category = [len(idxs) for idxs in category_idxs.values()] # number of sounds per category\n",
    "\n",
    "%matplotlib qt\n",
    "plt.bar(np.arange(19), n_per_category, tick_label=category_names)\n",
    "plt.show()\n",
    "\n",
    "for cat in range(19):\n",
    "    print('%s:  %i' % (category_names[cat], len(category_idxs[cat])))"
   ]
  },
  {
   "cell_type": "code",
   "execution_count": 88,
   "metadata": {},
   "outputs": [],
   "source": [
    "# Randomly (sub)sample up to 1000 sound samples from each category\n",
    "\n",
    "max_samples = 1000 # maximum number of samples per category\n",
    "train_prop = .8 # proportion of samples that are in training set (rest are in test set)\n",
    "random.seed(13) # set random number generator at arbitrary seed\n",
    "\n",
    "train_idxs = []\n",
    "test_idxs = []\n",
    "for idxs in category_idxs.values()\n",
    "    if len(idxs) > max_samples:\n",
    "        n_samples = max_samples\n",
    "    else:\n",
    "        n_samples = len(idxs)\n",
    "    \n",
    "    samples = random.sample(idxs, n_samples)\n",
    "    train_idxs += samples[:round(train_prop*n_samples)]\n",
    "    test_idxs += samples[round(train_prop*n_samples):]\n",
    "        \n",
    "train_idxs.sort()\n",
    "test_idxs.sort()"
   ]
  },
  {
   "cell_type": "code",
   "execution_count": null,
   "metadata": {},
   "outputs": [],
   "source": [
    "with h5py.File(spectrograms_path) as spectrograms:\n",
    "    train_set = np.array(spectrograms['spectograms'][train_idxs,:,:]) # training set of spectrograms\n",
    "\n",
    "# reshape to 2d array (rows = sounds, cols = features)\n",
    "train_sets = train_set.reshape((len(train_idxs), n_freq_bins*n_time_bins))\n",
    "\n",
    "# zero-average each feature across sounds in training set\n",
    "features_avg = np.mean(spectrograms_subset,0)\n",
    "train_set -= features_avg"
   ]
  },
  {
   "cell_type": "markdown",
   "metadata": {},
   "source": [
    "# Perform PCA on Spectrograms"
   ]
  },
  {
   "cell_type": "code",
   "execution_count": null,
   "metadata": {},
   "outputs": [],
   "source": [
    "# initialize and train PCA object\n",
    "pca_model = dcmp.PCA(whiten = True, random_state = rng)\n",
    "pca_model.fit(train_set)"
   ]
  },
  {
   "cell_type": "code",
   "execution_count": null,
   "metadata": {},
   "outputs": [],
   "source": [
    "cum_var_explained = np.cumsum(pca_model.explained_variance_ratio_)\n",
    "\n",
    "pct_var_explained = range(1,101,1)\n",
    "n_pcs = [bisect.bisect(cum_var_explained, pct/100.)+1 for pct in pct_var_explained]\n",
    "\n",
    "n_pcs_cutoff = bisect.bisect(cum_var_explained, var_explained_cutoff/100.)+1\n",
    "\n",
    "% matplotlib inline\n",
    "plt.plot(pct_var_explained, n_pcs, 'k')\n",
    "plt.axhline(y = n_pcs_cutoff, color = 'r', linestyle = '--', alpha = .5)\n",
    "\n",
    "plt.xlabel('% Variance Explained')\n",
    "plt.ylabel('Number of PCs')\n",
    "\n",
    "plt.show()"
   ]
  },
  {
   "cell_type": "code",
   "execution_count": null,
   "metadata": {},
   "outputs": [],
   "source": [
    "print(n_pcs_cutoff)"
   ]
  },
  {
   "cell_type": "code",
   "execution_count": null,
   "metadata": {},
   "outputs": [],
   "source": [
    "# Redo PCA with just enough PCs to hit the target variance explained\n",
    "pca_model = dcmp.PCA(n_components = n_pcs_cutoff, whiten = True, random_state = rng)\n",
    "pca_model.fit(train_set)\n",
    "\n",
    "train_set_pc = pca_model_transform(train_set) # PC representation of data"
   ]
  },
  {
   "cell_type": "markdown",
   "metadata": {},
   "source": [
    "# Train Sparse Coding Model"
   ]
  },
  {
   "cell_type": "code",
   "execution_count": null,
   "metadata": {},
   "outputs": [],
   "source": []
  },
  {
   "cell_type": "markdown",
   "metadata": {},
   "source": [
    "# Evaluate Dictionary Quality"
   ]
  },
  {
   "cell_type": "code",
   "execution_count": null,
   "metadata": {},
   "outputs": [],
   "source": []
  }
 ],
 "metadata": {
  "kernelspec": {
   "display_name": "Python 3",
   "language": "python",
   "name": "python3"
  },
  "language_info": {
   "codemirror_mode": {
    "name": "ipython",
    "version": 3
   },
   "file_extension": ".py",
   "mimetype": "text/x-python",
   "name": "python",
   "nbconvert_exporter": "python",
   "pygments_lexer": "ipython3",
   "version": "3.6.8"
  }
 },
 "nbformat": 4,
 "nbformat_minor": 2
}
